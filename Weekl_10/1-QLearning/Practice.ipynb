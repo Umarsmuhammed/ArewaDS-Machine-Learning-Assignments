{
 "cells": [
  {
   "cell_type": "markdown",
   "metadata": {},
   "source": [
    "# Peter and the Wolf: Reinforcement Learning Primer\n",
    "In this tutorial, we will learn how to apply Reinforcement learning to a problem of path finding. The setting is inspired by [Peter and the Wolf](https://en.wikipedia.org/wiki/Peter_and_the_Wolf) musical fairy tale by Russian composer [Sergei Prokofiev](https://en.wikipedia.org/wiki/Sergei_Prokofiev). It is a story about young pioneer Peter, who bravely goes out of his house to the forest clearing to chase a wolf. We will train machine learning algorithms that will help Peter to explore the surrounding area and build an optimal navigation map.\n",
    "\n",
    "First, let's import a bunch of useful libraries:"
   ]
  },
  {
   "cell_type": "code",
   "execution_count": null,
   "metadata": {},
   "outputs": [],
   "source": [
    "import matplotlib.pyplot as plt\n",
    "import numpy as np\n",
    "import random\n",
    "import math"
   ]
  },
  {
   "cell_type": "markdown",
   "metadata": {},
   "source": [
    "Overview of Reinforcement Learning\n",
    "**Reinforcement Learning** (RL) is a learning technique that allows us to learn an optimal behaviour of an **agent** in some **environment** by running many experiments. An agent in this environment should have some **goal**, defined by a **reward** function.\n",
    "\n",
    "# The Environment\n",
    "For simplicity, let's consider Peter's world to be a square board of size width x height. Each cell in this board can either be:\n",
    "\n",
    "- ground, on which Peter and other creatures can walk\n",
    "- water, on which you obviously cannot walk\n",
    "- a tree or grass - a place where you can rest\n",
    "- an apple, which represents something Peter would be glad to find in order to feed himself\n",
    "- a wolf, which is dangerous and should be avoided\n",
    "To work with the environment, we will define a class called Board. In order not to clutter this notebook too much, we have moved all code to work with the board into separate rlboard module, which we will now import. You may look inside this module to get more details about the internals of the implementation."
   ]
  }
 ],
 "metadata": {
  "kernelspec": {
   "display_name": "base",
   "language": "python",
   "name": "python3"
  },
  "language_info": {
   "codemirror_mode": {
    "name": "ipython",
    "version": 3
   },
   "file_extension": ".py",
   "mimetype": "text/x-python",
   "name": "python",
   "nbconvert_exporter": "python",
   "pygments_lexer": "ipython3",
   "version": "3.10.8"
  },
  "orig_nbformat": 4
 },
 "nbformat": 4,
 "nbformat_minor": 2
}
